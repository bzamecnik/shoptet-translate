{
 "cells": [
  {
   "cell_type": "code",
   "execution_count": 10,
   "metadata": {},
   "outputs": [],
   "source": [
    "import requests\n",
    "from ipywidgets import HTML"
   ]
  },
  {
   "cell_type": "code",
   "execution_count": 16,
   "metadata": {},
   "outputs": [],
   "source": [
    "response = requests.get(\n",
    "    'https://eshop.svet-3d-tisku.cz/admin/tisk-dokladu/?type=invoice&id=6501',\n",
    "    cookies={\n",
    "#         'tabId':'today',\n",
    "#             '_ga':'GA1.2.1199187362.1523390008',\n",
    "#             '__zlcmid':'lrhG0q3XypoE6p',\n",
    "#             'referer': 's%3A22%3A%22https%3A%2F%2Fwww.google.cz%2F%22%3B',\n",
    "            'SRV_ID': 'shoptetwww1',\n",
    "            'PHPSESSID': '1l581ont9glvhlpck2qca7109d',\n",
    "#             'NOCACHE': '1',\n",
    "#             'adminGTM': '1',\n",
    "#             'previousUrl': 'https%3A%2F%2Feshop.svet-3d-tisku.cz%2Fadmin%2Fdanove-doklady%2F'\n",
    "           })"
   ]
  },
  {
   "cell_type": "code",
   "execution_count": 17,
   "metadata": {},
   "outputs": [
    {
     "data": {
      "text/plain": [
       "200"
      ]
     },
     "execution_count": 17,
     "metadata": {},
     "output_type": "execute_result"
    }
   ],
   "source": [
    "response.status_code"
   ]
  },
  {
   "cell_type": "code",
   "execution_count": 18,
   "metadata": {},
   "outputs": [],
   "source": [
    "html_cz = response.text"
   ]
  },
  {
   "cell_type": "code",
   "execution_count": 19,
   "metadata": {},
   "outputs": [
    {
     "data": {
      "application/vnd.jupyter.widget-view+json": {
       "model_id": "5c3c1166b24a48e2884f33fc2aae0543",
       "version_major": 2,
       "version_minor": 0
      },
      "text/plain": [
       "HTML(value='<!DOCTYPE html PUBLIC \\'-//W3C//DTD XHTML 1.0 Strict//EN\\' \\'http://www.w3.org/TR/xhtml1/DTD/xhtml…"
      ]
     },
     "metadata": {},
     "output_type": "display_data"
    }
   ],
   "source": [
    "HTML(html_cz)"
   ]
  },
  {
   "cell_type": "code",
   "execution_count": null,
   "metadata": {},
   "outputs": [],
   "source": []
  }
 ],
 "metadata": {
  "anaconda-cloud": {},
  "kernelspec": {
   "display_name": "Python 3",
   "language": "python",
   "name": "python3"
  },
  "language_info": {
   "codemirror_mode": {
    "name": "ipython",
    "version": 3
   },
   "file_extension": ".py",
   "mimetype": "text/x-python",
   "name": "python",
   "nbconvert_exporter": "python",
   "pygments_lexer": "ipython3",
   "version": "3.4.5"
  }
 },
 "nbformat": 4,
 "nbformat_minor": 2
}
