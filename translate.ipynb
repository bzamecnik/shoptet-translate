{
 "cells": [
  {
   "cell_type": "code",
   "execution_count": 36,
   "metadata": {},
   "outputs": [],
   "source": [
    "import bs4\n",
    "import pandas as pd\n",
    "from ipywidgets import HTML\n",
    "import pdfkit"
   ]
  },
  {
   "cell_type": "code",
   "execution_count": 16,
   "metadata": {},
   "outputs": [],
   "source": [
    "def read_html(path):\n",
    "    with open(path) as f:\n",
    "        return f.read()"
   ]
  },
  {
   "cell_type": "code",
   "execution_count": 17,
   "metadata": {},
   "outputs": [],
   "source": [
    "html_cz = read_html('data/invoice-6501.html')"
   ]
  },
  {
   "cell_type": "code",
   "execution_count": 18,
   "metadata": {},
   "outputs": [
    {
     "data": {
      "text/plain": [
       "'<!DOCTYPE html PUBLIC \"-//W3C//DTD XHTML 1.0 Strict//EN\" \"http://www.w3.org/TR/xhtml1/DTD/xhtml1-strict.dtd\">\\n<!-- saved from url=(0071)https://eshop.svet-3d-tisku.cz/admin/tisk-dokladu/?type=invoice&id=6501 -->\\n<html xmlns=\"http://www.w3.org/1999/xhtml\" xml:lang=\"en-US\" lang=\"en-US\"><head><meta http-equiv=\"Content-Type\" content=\"text/html; charset=UTF-8\">\\n        \\n        <meta http-equiv=\"pragma\" content=\"no-cache\">\\n        <meta http-equiv=\"content-language\" content=\"cs\">\\n        \\n        <link rel=\"stylesheet\" type=\"text/css\" href=\"./invoice-6501_files/basicClasses.css\">\\n        <link rel=\"stylesheet\" type=\"text/css\" href=\"./invoice-6501_files/patterns.css\">\\n        <style>\\n            th, td, h1, h2, h3, strong { border-color: #000 !important; background-color: transparent !important; color: #000 !important; }\\n            html, body, form, fieldset, label, legend, object { margin: 0; padding: 0; border: 0; font-size: 100% }\\n            body, code { font: 71%/1.4 Arial, \"Lucida Grande CE\", lucida, sans-serif; color: #000 !important; }\\n            body, code { font-family: Arial, \"Lucida Grande CE\", lucida, sans-serif; color: #000 !important; }\\n            table { border-collapse: separate; border-spacing: 0; }\\n            table.compact, table.compact-rows tr { page-break-inside: avoid }\\n            thead { display: table-row-group; }\\n            th, td { position: relative; }\\n            caption { padding-bottom: 0.1em; font-weight: bold; text-align: left }\\n            ul, ol { margin-top: 1em; margin-bottom: 1.2em }\\n            hr { height: 0; border: none; border-bottom: 1px solid #d7d7d7 }\\n            img { border: 0; max-width: 100%; }\\n            small { font-size: 90% }\\n            h1, h2, h3, h4, h5, h6 { color: black; padding: 0; line-height: normal }\\n            h1 { font-size: 190%; font-weight: normal; clear: both; margin: 0.2em 0 0.5em 0; text-transform: uppercase }\\n            h2 { font-size: 130%; margin: 1.5em 0 0.5em 0 }\\n            h3 { font-size: 130%; margin: 1.7em 0 0.5em 0 }\\n            h4 { font-size: 110%; margin: 1.1em 0 0.5em 0 }\\n            a { color: #1d8642 }\\n            a:link { color: #1d8642 }\\n            a:hover { color: #8db71e; text-decoration: none }\\n            p { margin: 1em 0 1.5em 0 }\\n\\n            /* basic selectors */\\n            .tac table { text-align: left; margin-left: auto; margin-right: auto }\\n            .fl { float: left }\\n            .fr { float: right }\\n            .border { border: 1px solid #000 }\\n            .border-bolder { border: 3px solid black }\\n            .border-top { border-top: 1px solid #000 }\\n            .border-bottom { border-bottom: 1px solid #000 }\\n            .border-left { border-left: 1px solid #000 }\\n            .border-right { border-right: 1px solid #000 }\\n            .padding-em { padding: 1em }\\n            .padding-half-em { padding: 0.5em !important }\\n            .margin-em { margin: 1em }\\n            .margin-half-em { margin: 0.5em !important }\\n            .padding-bottom-em { padding-bottom: 1em }\\n            .padding-half-em-right { padding-right: 0.5em }\\n            .padding-half-em-left { padding-left: 0.5em }\\n            .nmt { margin-top: 0 !important }\\n            .nmb { margin-bottom: 0 !important }\\n            .nm { margin: 0 !important }\\n            .tal { text-align: left }\\n            .tac { text-align: center }\\n            .tar { text-align: right }\\n            .taj { text-align: justify }\\n            .vat { vertical-align: top }\\n            .vam { vertical-align: middle }\\n            .vab { vertical-align: bottom }\\n            .small { font-size: 90% }\\n            .nsp { padding-left: 0 !important; padding-right: 0 !important }\\n            .nvp { padding-top: 0 !important; padding-bottom: 0 !important }\\n            .npt { padding-top: 0 !important }\\n            .npb { padding-bottom: 0 !important }\\n            .strong { font-weight: bold }\\n            .yellow-background { background-color: #f8f9c1 !important }\\n            .light-grey-background { background-color: #fefefe !important }\\n            .orange-background { background-color: #FEFCE7 !important }\\n            .blue { color: #0752c7 }\\n            .green { color: #008609 }\\n            .red { color: #c20000 !important }\\n            .grey { color: #777 !important }\\n            .cleaner { width: 100%; overflow: hidden }\\n            .invisible, .no-css { display: none }\\n            .inline { display: inline }\\n            .no-visibility { visibility: hidden }\\n            .no-border { border: none !important }\\n            .no-strong { font-weight: normal !important }\\n            .np { padding: 0 !important }\\n            .img-button, .btn-md, .btn-lg { border: none !important; margin: 0 !important; background: none !important; padding: 0 !important }\\n            .transparent { background-color: transparent !important }\\n            .readonly { color: #909090 }\\n            .img-vam img { vertical-align: middle }\\n            .fli { float: left; margin: 0 1.3em 1em 0 }\\n            .fri { float: right; margin: 0 0 1em 1.3em }\\n            .tari { text-align: right; padding-right: 1.2em !important }\\n            .tali { text-align: left; padding-right: 1.2em !important }\\n            .clear { clear: both !important; float: none !important; height: 0; font-size: 1px }\\n\\n            .checkingout{ font-size: 250%; line-height: 100% }\\n            ul.legend { margin: 40px 0 }\\n            ul.legend > li { list-style: none inside; position: relative; display: inline-block; margin-right: 20px }\\n            ul.legend > li > span { position: absolute; display: block; height: 10px; width: 10px; top: 3px; left: -15px }\\n            #main { width: 980px; height: 100%; margin: 0 auto; text-align: left; position: relative; background: #fff }\\n\\n            .contents thead { display: table-header-group; }\\n            .contents tfoot { display: table-footer-group; }\\n            .contents tfoot tr td { border-top: 1px solid #000; text-align: center;}\\n            .contents {\\n                -fs-table-paginate: paginate;\\n            }\\n            #main-table, #recapitulation-table, #main-table-content tr{ page-break-inside: avoid; }\\n        </style>\\n        <style type=\"text/css\" media=\"screen,projection\">\\n            code { display: block; margin: 1.5em 0; padding: 1em; background: #f8f9c1; border: dotted 1px #888; font-size: 100% }\\n            #main-in { padding: 1em }\\n            html>body #main { min-height: 100%; height: auto }\\n        </style>\\n        \\n        <script type=\"text/javascript\" src=\"./invoice-6501_files/jquery-1.8.2.min.js\"></script>\\n        <script type=\"text/javascript\" src=\"./invoice-6501_files/Chart.min.js\"></script>\\n    </head>\\n    <body onload=\"window.print(); parent.$(&#39;body&#39;).trigger(&#39;printDialogOpened&#39;);\">\\n        <div id=\"main\" class=\"shoptet-clearfix\">\\n            <div id=\"main-in\">\\n                                        \\n    <style type=\"text/css\" media=\"all\">\\n        #document-notice { font-size: 90% }\\n                    .stamp { position: absolute; top: 0px; left: 15px; }\\n                            #recapitulation-table { page-break-after: always }\\n        \\n    </style>\\n    <style type=\"text/css\" media=\"all\">\\n    #recipient-name, .delivery-address { font-size: 120%; }\\n    #recipient small { font-size: 80%; }\\n    .delivery-address small { font-size: 67%; }\\n    #content-notice { font-size: 85% }\\n    .tax-identifier { font-size: 80% }\\n    #logo { margin-right: 15px; margin-top: 15px; float: right}\\n    #supplier { font-size: 1.2em }\\n    #supplier small { font-size: 70%; padding-bottom: 0.2em; display: inline-block; font-weight: normal }\\n    #supplier .supplier-data { font-size: 5em }\\n    .title { font-size: 120%; }\\n\\n    #document-footer-notice { padding: 0.5em; border: 1px solid black; border-top: none; font-size: 70%; text-align: center }\\n    .sum-price { font-size: 130% }\\n    #account-number { font-weight: bold; font-size: 120%; padding: 0 !important; margin: 0 !important  }\\n    #vat-rate-summary {  border: 1px solid black;  border-left: none; padding: 1em }\\n    #vat-rate-summary-label { border: 1px solid black; border-right-width: 0; padding: 1em; font-size: 90% }\\n    #do-not-pay { text-transform: uppercase; font-size: 90pt; color: #ddd  }\\n</style>\\n\\n            <table width=\"100%\">\\n            <tbody>\\n                <tr>\\n                    <td width=\"50%\" class=\"tal\"><strong class=\"title\">FAIROS MEDIA, spol. s r.o.</strong></td>\\n                    <td class=\"tar\" width=\"50%\">\\n                        <strong class=\"title\">\\n                            Faktura - Daňový doklad č. 2018007163                                                                                                                                        </strong>\\n                    </td>\\n                </tr>\\n            </tbody>\\n        </table>\\n        <table id=\"main-table\" width=\"100%\">\\n            <tbody>\\n                <tr>\\n                    <td class=\"padding-em vat border-left border-top\" width=\"50%\">\\n                                    <table width=\"100%\">\\n                                        <tbody><tr>\\n                                            <td id=\"supplier\" class=\"tal padding-bottom-em\">\\n                                                \\n                                                <small>Dodavatel:</small><br>\\n                                                                                                    <strong>FAIROS MEDIA, spol. s r.o.<br>Dětská 2582/200<br>10000 Praha</strong>\\n                                                                                            </td>\\n                                            <td valign=\"top\" class=\"tar\" rowspan=\"2\">\\n                                                \\n                                                                                                                                                                                                                                                                                                                                                                                <img src=\"./invoice-6501_files/logo.png\" alt=\"Razítko\" id=\"logo\" width=\"200\">\\n                                                                                            </td>\\n                                        </tr>\\n                                        <tr>\\n                                            <td class=\"supplier-data tal padding-bottom-em\">\\n                                                IČ: 24801704<br>\\n                                                DIČ: CZ24801704<br>                                                                                                                                                Spisová značka: C 175536 - Městský soud v Praze<br>                                                                                                Telefon: 724038865<br>\\n                                                E-mail: info@svet-3d-tisku.cz<br>\\n                                                https://eshop.svet-3d-tisku.cz\\n                                            </td>\\n                                        </tr>\\n                                        <tr>\\n                                            <td class=\"supplier-data tal\">\\n                                                Datum vystavení: 25.6.2018\\n                                            </td>\\n                                        </tr>\\n                                    </tbody></table>\\n                                                    <table width=\"100%\">\\n                                <tbody>\\n                                    <tr><td colspan=\"3\">&nbsp;</td></tr>\\n                                    <tr>\\n                                        <td width=\"180\">Číslo účtu:</td>\\n                                        \\n                                        <td class=\"tal\" colspan=\"2\">\\n                                                                                            <p id=\"account-number\">2701323565/2010</p>\\n                                                                                    </td>\\n                                    </tr>\\n                                                                            <tr>\\n                                            <td width=\"180\">IBAN:</td>\\n                                            \\n                                            <td class=\"tal\" colspan=\"2\">\\n                                                                                                    <p id=\"account-number\">CZ0220100000002701323565</p>\\n                                                                                            </td>\\n                                        </tr>\\n                                        <tr>\\n                                            <td width=\"180\">BIC (SWIFT):</td>\\n                                            \\n                                            <td class=\"tal\" colspan=\"2\">\\n                                                                                                    <p id=\"account-number\">FIOBCZPPXXX</p>\\n                                                                                            </td>\\n                                        </tr>\\n                                                                        <tr class=\"vat\">\\n                                        <td>Forma úhrady</td>\\n                                        <td class=\"tal\">Kartou</td>\\n                                                                                    <td rowspan=\"4\" class=\"tac\"><img src=\"data:image/png;base64,iVBORw0KGgoAAAANSUhEUgAAAIcAAACHAQMAAAAGKdhJAAAABlBMVEX///8AAABVwtN+AAAACXBIWXMAAA7EAAAOxAGVKw4bAAAByElEQVRIidWVPa6sMAyFjSjcwQYiZRvpsiXoqPippuNtiY5tIGUDpEuB8DsZ7swt8Ux3U8EXyYnt4xOiv7i8nDzTNpQjR5GkJI4qliTJxjUu1GmJzNRzGMNM7Xp8QipPvFUcPyUHBVmnDwj+T28fVMj0zuKWoD6uXU0XZte+K3ZL8mqXUkzj999+3BFneh8X09GwVE5PwkiVQzcmnIzvb4k3PdIOD+wV6cpLQ45inZ0h06af+2gIm95BCclOqUbhlMTjs/dWTJF6Z0clofIfLmo6e0J8zzga4srR794m0y6VD0lJGBIYxD6wEZMhJXFh52nZ6GgXFHdUEjbDGoVIoLp0nf4VoTAhpIh9T6WGMPWZdxIxX1dkBclK2FE2O2FkREvYSpYpmxqtvbShIGTINYxMp1T5jZTEHb2r03Mu6nXrlMRTHuJtOBDOPeNoCJcnFSinaahen26jIU52f0LaNqZCLgf4imRr3OGQKMEg1GkJEjnRHfR055CUBA5JjaPOQnWXfjQku/Hsw4jcG369TfdEZj79AdUtP3dWEsxydhs8iJcSdCS3ZdjgNv51+j3B64kA3TG8/FBDUJ/s/ITTd/d6d74gf2/9B7TkJbFhcZqlAAAAAElFTkSuQmCC\" alt=\"qrCode\"></td>\\n                                                                            </tr>\\n                                    <tr>\\n                                        <td>Datum vystavení:</td>\\n                                        <td class=\"tal\">\\n                                                                                            25.6.2018 12:14:44\\n                                                                                    </td>\\n                                    </tr>\\n                                    <tr>\\n                                        <td>Datum splatnosti:</td>\\n                                        <td class=\"tal\">\\n                                            9.7.2018\\n                                        </td>\\n                                    </tr>\\n                                                                            <tr>\\n                                            <td>Datum zdanitelného plnění:</td>\\n                                            <td class=\"tal\">25.6.2018</td>\\n                                        </tr>\\n                                                                    </tbody>\\n                            </table>\\n                                            </td>\\n                    <td class=\"vat border-right border-top border-left\">\\n                        <table class=\"margin-em\" width=\"95%\">\\n                            <tbody>\\n                                                                    <tr>\\n                                        <td width=\"250\">Variabilní symbol:</td>\\n                                        <td class=\"tar\">2018007163</td>\\n                                    </tr>\\n                                    <tr>\\n                                        <td>Konstantní symbol:</td>\\n                                        <td class=\"tar\">0308</td>\\n                                    </tr>\\n                                    <tr>\\n                                        <td>Specifický symbol:</td>\\n                                        <td class=\"tar\">7</td>\\n                                    </tr>\\n                                    <tr>\\n                                        <td class=\"tal\">Objednávka č.: 10015773</td>\\n                                        <td class=\"tar\">\\n                                            Ze dne:\\n                                                                                            25.6.2018\\n                                                                                    </td>\\n                                    </tr>\\n                                                            </tbody>\\n                        </table>\\n\\n                        \\n                        <table width=\"100%\">\\n                            <tbody><tr>\\n                                <td class=\"padding-em border-bolder\" id=\"recipient\" width=\"450\">\\n                                    <table class=\"content\">\\n                                        <tbody>\\n                                            <tr>\\n                                                <td>\\n                                                    <small>Příjemce:</small><br>\\n                                                    <strong id=\"recipient-name\">Prusa Research s.r.o.<br>Martin Koudelka<br>Partyzánská 188/7a<br>17000 Praha 7 - Holešovice<br><br></strong>IČ: 24213705<br>DIČ: CZ24213705<br>Email: nakup@prusa3d.cz<br>Telefon: 725815570                                                </td>\\n                                            </tr>\\n                                        </tbody>\\n                                    </table>\\n                                </td>\\n                            </tr>\\n                        </tbody></table>\\n\\n                        \\n                        <table width=\"100%\" class=\"margin-half-em delivery-address\">\\n                            <tbody>\\n                                <tr>\\n                                    <td>\\n                                        <small>Doručovací adresa:</small>\\n                                    </td>\\n                                </tr>\\n                                <tr>\\n                                    <td></td>\\n                                </tr>\\n                                <tr>\\n                                    <td><br></td>\\n                                </tr>\\n                                <tr>\\n                                    <td>\\n                                        \\n                                                                                <br>\\n                                    </td>\\n                                </tr>\\n                                <tr>\\n                                    <td>\\n                                                                                \\n                                    </td>\\n                                </tr>\\n                                                                                            </tbody>\\n                        </table>\\n                    </td>\\n                </tr>\\n            </tbody></table>\\n            <table class=\"contents\" width=\"100%\">\\n                <thead>\\n                    \\n                    <tr class=\"summary-row\">\\n                                                <th class=\"tal border-bottom padding-half-em-left border-left border-top\" height=\"22\">Číslo dodávky</th>\\n                        <th class=\"tal border-bottom padding-half-em-right border-top\">Množství</th>\\n                                                    <th class=\"tari border-bottom padding-half-em-right border-top\">Cena za kus</th>\\n                            <th class=\"tari border-bottom padding-half-em-right border-top\">Cena</th>\\n                            <th class=\"tari border-bottom padding-half-em-right border-top\">Sleva</th>\\n                                                                                                        <th class=\"tari border-bottom padding-half-em-right border-top\">DPH %</th>\\n                            <th class=\"tari border-bottom padding-half-em-right border-top\">DPH</th>\\n                                                                            <th class=\"tar border-bottom padding-half-em-right border-right border-top\">\\n                                                            Celková cena vč. DPH                                                    </th>\\n                    </tr>\\n                </thead>\\n                <tbody id=\"main-table-content\">\\n                                            <tr height=\"35\">\\n                            <td class=\"padding-half-em-left border-left\" id=\"content-notice\">\\n                                <big>Položky objednávky:</big>                                                                                            </td>\\n                            <td>&nbsp;</td>\\n                            <td>&nbsp;</td>\\n                            <td>&nbsp;</td>\\n                            <td>&nbsp;</td>\\n                                                            <td>&nbsp;</td>\\n                                <td>&nbsp;</td>\\n                                                        <td class=\"tar padding-half-em-right border-right\">&nbsp;</td>\\n                        </tr>\\n                                        \\n                                                                                    \\n                                                                                                                        \\n                                                                        <tr>\\n                                <td class=\"padding-half-em-left vat border-left\" style=\"font-size:99%;\">\\n                                    PLA zelenožlutá\\n                                                                            <br>Varianta: Průměr struny: 2.9 mm, Hmotnost návinu: 1 kg\\n                                                                                                                                                                                    <br>Kód: 1599/2/1                                                                    </td>\\n                                <td class=\"vat\">\\n                                    1 ks\\n                                </td>\\n                                                                    <td class=\"vat tari\">\\n                                                                                    450,41 Kč\\n                                                                            </td>\\n                                    <td class=\"vat tari\">\\n                                                                                    450,41 Kč\\n                                                                            </td>\\n                                    <td class=\"vat tari\">\\n                                        0 %\\n                                    </td>\\n                                                                                                    <td class=\"vat tari\">\\n                                        21 %\\n                                    </td>\\n                                    <td class=\"tari vat\">\\n                                        94,59 Kč\\n                                    </td>\\n                                                                <td class=\"tar padding-half-em-right vat border-right\">\\n                                                                            545,00 Kč\\n                                                                    </td>\\n                            </tr>\\n                                                                                                                    \\n                                                                                                <tr>\\n                                <td class=\"padding-half-em-left vat border-left\" style=\"font-size:99%;\">\\n                                    PPL - Expresni Firemní balík\\n                                                                                                                                                                                                                                                                                                                                    </td>\\n                                <td class=\"vat\">\\n                                    1 \\n                                </td>\\n                                                                    <td class=\"vat tari\">\\n                                                                                    95,04 Kč\\n                                                                            </td>\\n                                    <td class=\"vat tari\">\\n                                                                                    95,04 Kč\\n                                                                            </td>\\n                                    <td class=\"vat tari\">\\n                                        0 %\\n                                    </td>\\n                                                                                                    <td class=\"vat tari\">\\n                                        21 %\\n                                    </td>\\n                                    <td class=\"tari vat\">\\n                                        19,96 Kč\\n                                    </td>\\n                                                                <td class=\"tar padding-half-em-right vat border-right\">\\n                                                                            115,00 Kč\\n                                                                    </td>\\n                            </tr>\\n                                                                                                                    \\n                                                                                                <tr class=\"beforeline-row\">\\n                                <td class=\"padding-half-em-left vat border-left\" style=\"font-size:99%;\">\\n                                    PayU – rychlé, pohodlné a bezpečné online platby\\n                                                                                                                                                                                                                                                        </td>\\n                                <td class=\"vat\">\\n                                    1 \\n                                </td>\\n                                                                    <td class=\"vat tari\">\\n                                                                                    0,00 Kč\\n                                                                            </td>\\n                                    <td class=\"vat tari\">\\n                                                                                    0,00 Kč\\n                                                                            </td>\\n                                    <td class=\"vat tari\">\\n                                        0 %\\n                                    </td>\\n                                                                                                    <td class=\"vat tari\">\\n                                        21 %\\n                                    </td>\\n                                    <td class=\"tari vat\">\\n                                        0,00 Kč\\n                                    </td>\\n                                                                <td class=\"tar padding-half-em-right vat border-right\">\\n                                                                            0,00 Kč\\n                                                                    </td>\\n                            </tr>\\n                                                                                                                    \\n                                                                                                            <tr class=\"summary-row\"><td class=\"padding-half-em-left border-top  border-left tal vat\">Shrnutí<br><strong class=\"sum-price\">K ZAPLACENÍ</strong></td><td class=\"tari vat border-top \"></td><td class=\"tari vat border-top \"></td><td class=\"tari vat border-top \">545,45 Kč</td><td class=\"tari vat border-top \"></td><td class=\"tari vat border-top \"></td><td class=\"tari vat border-top \">114,55 Kč</td><td class=\"tar padding-half-em-right border-top  border-right\" nowrap=\"nowrap\">660,00 Kč<br><strong class=\"sum-price\">660,00 Kč</strong></td></tr>\\n                                    </tbody>\\n                <tfoot>\\n                  <tr>\\n                    <td colspan=\"8\"></td>\\n                  </tr>\\n                </tfoot>\\n            </table>\\n\\n\\n\\n\\n\\n\\n<table id=\"recapitulation-table\" width=\"100%\" class=\"border-top\">\\n    <tbody>\\n        <tr class=\"first-row\">\\n                            <td class=\"padding-half-em-left border-left\">\\n    <br>Vydáno:\\n</td>\\n<td class=\"border-right\"></td>\\n\\n                    </tr>\\n        <tr>\\n            <td colspan=\"2\" class=\"tac padding-half-em-left border-left border-right\">\\n                                    <span id=\"do-not-pay\">Neplaťte!</span>\\n                            </td>\\n        </tr>\\n                <tr>\\n            <td colspan=\"2\" class=\"border-left border-right vat tal padding-em npt npb\">\\n                <p id=\"document-notice\">\\n                    \\n                                                                                                                                        </p>\\n            </td>\\n        </tr>\\n        <tr>\\n                       <td class=\"border-right border-left\" colspan=\"2\">\\n              &nbsp;\\n            </td>\\n        </tr>\\n                            <tr height=\"35\">\\n                <td colspan=\"2\" class=\"border-left border-right padding-em npt npb\">\\n                    Poznámka: POZOR - NOVÉ ČÍSLO ÚČTU - new account number\\n                </td>\\n            </tr>\\n                            <tr>\\n                <td id=\"vat-rate-summary-label\" width=\"50%\">\\n                    Součet DPH:\\n                </td>\\n                <td id=\"vat-rate-summary\" align=\"right\" width=\"50%\">\\n                    <table width=\"100%\">\\n                        <tbody><tr>\\n                            <td class=\"tari\">Bez DPH</td>\\n                            <td class=\"tari\">Sazba</td>\\n                            <td class=\"tari\">DPH</td>\\n                            <td class=\"tari\">Celková cena vč. DPH</td>\\n                        </tr>\\n                                                    <tr>\\n                                <td class=\"tari\">545,45 Kč</td>\\n                                <td class=\"tari\">21 %</td>\\n                                <td class=\"tari\">114,55 Kč</td>\\n                                <td class=\"tari\">660,00 Kč</td>\\n                            </tr>\\n                                                    <tr>\\n                                <td class=\"tari\">0,00 Kč</td>\\n                                <td class=\"tari\">0 %</td>\\n                                <td class=\"tari\">0,00 Kč</td>\\n                                <td class=\"tari\">0,00 Kč</td>\\n                            </tr>\\n                                            </tbody></table>\\n                </td>\\n            </tr>\\n                                                    <tr>\\n                <td class=\"border-left vat tal padding-em npb\" width=\"50%\">\\n    <strong>Vystavil</strong>:\\n                Lena Zámečníková\\n    </td>\\n<td class=\"border-right vat tal padding-em npb\" width=\"50%\">\\n    Razítko:\\n</td>\\n\\n            </tr>\\n            <tr>\\n                <td height=\"85\" class=\"border-left vat padding-em npt npb\">\\n            \\n                                <strong>Seriové číslo</strong>:&nbsp;870<br>\\n            <strong>Pokladna</strong>:&nbsp;cd_4<br>\\n            <strong>Provozovna</strong>:&nbsp;11<br>\\n            <strong>Režim</strong>:&nbsp;Běžný režim<br>\\n                                        <strong>FIK</strong>:&nbsp;3ebab85c-17d8-45f3-aa65-a51f47825786-01<br>\\n                        <strong>BKP</strong>:&nbsp;7e453b16-77aa8ad9-630883de-ed0dcce3-1f1ddd4b\\n            </td>\\n<td class=\"border-right vat tac padding-em npt npb\">\\n                    <img src=\"./invoice-6501_files/stamp.png\" alt=\"Razítko\" class=\"stamp\" height=\"115\">\\n    </td>\\n\\n            </tr>\\n                <tr>\\n            <td colspan=\"2\" id=\"document-footer-notice\">\\n                Vystaveno softwarem pro internetové obchodování Shoptet.cz\\n            </td>\\n        </tr>\\n    </tbody>\\n</table>\\n\\n        \\n            \\n\\n                            </div>\\n        </div>\\n    \\n\\n</body></html>'"
      ]
     },
     "execution_count": 18,
     "metadata": {},
     "output_type": "execute_result"
    }
   ],
   "source": [
    "html_cz"
   ]
  },
  {
   "cell_type": "code",
   "execution_count": 105,
   "metadata": {},
   "outputs": [],
   "source": [
    "translations = pd.read_csv('data/translations.csv')"
   ]
  },
  {
   "cell_type": "code",
   "execution_count": 106,
   "metadata": {},
   "outputs": [
    {
     "data": {
      "text/html": [
       "<div>\n",
       "<style scoped>\n",
       "    .dataframe tbody tr th:only-of-type {\n",
       "        vertical-align: middle;\n",
       "    }\n",
       "\n",
       "    .dataframe tbody tr th {\n",
       "        vertical-align: top;\n",
       "    }\n",
       "\n",
       "    .dataframe thead th {\n",
       "        text-align: right;\n",
       "    }\n",
       "</style>\n",
       "<table border=\"1\" class=\"dataframe\">\n",
       "  <thead>\n",
       "    <tr style=\"text-align: right;\">\n",
       "      <th></th>\n",
       "      <th>cz</th>\n",
       "      <th>en</th>\n",
       "    </tr>\n",
       "  </thead>\n",
       "  <tbody>\n",
       "    <tr>\n",
       "      <th>0</th>\n",
       "      <td>Faktura - Daňový doklad č.</td>\n",
       "      <td>Invoice - tax receipt no.</td>\n",
       "    </tr>\n",
       "    <tr>\n",
       "      <th>1</th>\n",
       "      <td>Dodavatel</td>\n",
       "      <td>Supplier</td>\n",
       "    </tr>\n",
       "    <tr>\n",
       "      <th>2</th>\n",
       "      <td>DIČ</td>\n",
       "      <td>Tax identification no.</td>\n",
       "    </tr>\n",
       "    <tr>\n",
       "      <th>3</th>\n",
       "      <td>Spisová značka: C 175536 - Městský soud v Praze</td>\n",
       "      <td>File No. 175536, Section C - Municipal Court o...</td>\n",
       "    </tr>\n",
       "    <tr>\n",
       "      <th>4</th>\n",
       "      <td>Telefon</td>\n",
       "      <td>Phone</td>\n",
       "    </tr>\n",
       "  </tbody>\n",
       "</table>\n",
       "</div>"
      ],
      "text/plain": [
       "                                                cz  \\\n",
       "0                       Faktura - Daňový doklad č.   \n",
       "1                                        Dodavatel   \n",
       "2                                              DIČ   \n",
       "3  Spisová značka: C 175536 - Městský soud v Praze   \n",
       "4                                          Telefon   \n",
       "\n",
       "                                                  en  \n",
       "0                          Invoice - tax receipt no.  \n",
       "1                                           Supplier  \n",
       "2                             Tax identification no.  \n",
       "3  File No. 175536, Section C - Municipal Court o...  \n",
       "4                                              Phone  "
      ]
     },
     "execution_count": 106,
     "metadata": {},
     "output_type": "execute_result"
    }
   ],
   "source": [
    "translations.head()"
   ]
  },
  {
   "cell_type": "code",
   "execution_count": 107,
   "metadata": {},
   "outputs": [
    {
     "data": {
      "text/plain": [
       "{'cz': 'Faktura - Daňový doklad č.', 'en': 'Invoice - tax receipt no.'}"
      ]
     },
     "execution_count": 107,
     "metadata": {},
     "output_type": "execute_result"
    }
   ],
   "source": [
    "tr = dict(translations.iloc[0])\n",
    "tr"
   ]
  },
  {
   "cell_type": "code",
   "execution_count": 108,
   "metadata": {},
   "outputs": [],
   "source": [
    "def translate_naive(html_cz, translations):\n",
    "    # easy but has problem with common substrings :/\n",
    "    html_en = html_cz\n",
    "    for i, row in translations.iterrows():\n",
    "        html_en = html_en.replace(row['cz'], row['en'])\n",
    "    return html_en"
   ]
  },
  {
   "cell_type": "code",
   "execution_count": 109,
   "metadata": {
    "scrolled": false
   },
   "outputs": [
    {
     "data": {
      "application/vnd.jupyter.widget-view+json": {
       "model_id": "f2949a3744444c4a8a43adda6dd61411",
       "version_major": 2,
       "version_minor": 0
      },
      "text/plain": [
       "HTML(value='<!DOCTYPE html PUBLIC \"-//W3C//DTD XHTML 1.0 Strict//EN\" \"http://www.w3.org/TR/xhtml1/DTD/xhtml1-s…"
      ]
     },
     "metadata": {},
     "output_type": "display_data"
    }
   ],
   "source": [
    "html_en = translate_naive(html_cz, translations)\n",
    "HTML(html_en)"
   ]
  },
  {
   "cell_type": "code",
   "execution_count": 110,
   "metadata": {},
   "outputs": [],
   "source": [
    "with open('data/invoice-6501-en.html', 'w') as f:\n",
    "    f.write(html_en)"
   ]
  },
  {
   "cell_type": "code",
   "execution_count": 111,
   "metadata": {},
   "outputs": [],
   "source": [
    "# pdfkit.from_string(html_en, 'invoice-6501-en.pdf')"
   ]
  },
  {
   "cell_type": "code",
   "execution_count": 112,
   "metadata": {},
   "outputs": [
    {
     "name": "stdout",
     "output_type": "stream",
     "text": [
      "Loading pages (1/6)\n",
      "[>                                                           ] 0%\r",
      "[======>                                                     ] 10%\r",
      "[=============>                                              ] 23%\r",
      "[====================>                                       ] 34%\r",
      "[===========================>                                ] 46%\r",
      "[=============================>                              ] 49%\r",
      "[===================================>                        ] 59%\r",
      "[=================================================>          ] 82%\r",
      "Warning: A finished ResourceObject received a loading progress signal. This might be an indication of an iframe taking too long to load.\n",
      "Warning: A finished ResourceObject received a loading finished signal. This might be an indication of an iframe taking too long to load.\n",
      "Counting pages (2/6)\n",
      "[============================================================] Object 1 of 1\r",
      "Resolving links (4/6)                                                       \n",
      "[============================================================] Object 1 of 1\r",
      "Loading headers and footers (5/6)                                           \n",
      "Printing pages (6/6)\n",
      "[>                                                           ] Preparing\r",
      "[==============================>                             ] Page 1 of 2\r",
      "[============================================================] Page 2 of 2\r",
      "Done                                                                      \n"
     ]
    },
    {
     "data": {
      "text/plain": [
       "True"
      ]
     },
     "execution_count": 112,
     "metadata": {},
     "output_type": "execute_result"
    }
   ],
   "source": [
    "pdfkit.from_file('data/invoice-6501-en.html', 'data/invoice-6501-en.pdf')"
   ]
  },
  {
   "cell_type": "markdown",
   "metadata": {},
   "source": [
    "## Translation on the level of HTML to prevent repeated substring substitution\n",
    "\n",
    "- We have to sort translation string to that no string is substring of a string after it.\n",
    "- We should mark translated strings and ignore them from further translation."
   ]
  },
  {
   "cell_type": "code",
   "execution_count": 96,
   "metadata": {},
   "outputs": [
    {
     "name": "stdout",
     "output_type": "stream",
     "text": [
      "False Faktura - Daňový doklad č.\n",
      "False Dodavatel\n",
      "False DIČ\n",
      "False Spisová značka: C 175536 - Městský soud v Praze\n",
      "False Telefon\n",
      "False E-mail\n",
      "False Datum vystavení\n",
      "False Datum splatnosti\n",
      "False Datum zdanitelného plnění\n",
      "False Číslo účtu\n",
      "False Forma úhrady\n",
      "False Kartou\n",
      "False Variabilní symbol\n",
      "False Konstantní symbol\n",
      "False Specifický symbol\n",
      "False Objednávka č.\n",
      "False Ze dne\n",
      "False Příjemce\n",
      "False Doručovací adresa\n",
      "False Číslo dodávky\n",
      "False Množství\n",
      "False Cena za kus\n",
      "False Cena\n",
      "False Sleva\n",
      "False Celková cena vč. DPH\n",
      "False Položky objednávky\n",
      "False ks\n",
      "False Kč\n",
      "False Shrnutí\n",
      "False K zaplacení\n",
      "False Vydáno\n",
      "False Neplaťte\n",
      "False Poznámka: POZOR - NOVÉ ČÍSLO ÚČTU - new account number\n",
      "False Součet DPH\n",
      "False Bez DPH\n",
      "False Sazba\n",
      "False Vystavil\n",
      "False Sériové číslo\n",
      "False Pokladna\n",
      "False Provozovna\n",
      "False Režim\n",
      "False Běžný režim\n",
      "False Razítko\n",
      "False Vystaveno softwarem pro internetové obchodování Shoptet.cz\n",
      "False Zálohová faktura - Kód\n",
      "False Daňový doklad je v režimu přenesené daňové povinnosti (reverse charge), daň je povinen odvést zákazník v souladu s článkem 196 směrnice Rady 2006/112/ES.\n",
      "False Souhrn DPH ve výchozí měně \n",
      "False kurz\n",
      "False IČ\n",
      "False DPH %\n",
      "False DPH\n"
     ]
    }
   ],
   "source": [
    "for i, row in translations.iterrows():    \n",
    "    print(any(row['cz'] in other for other in translations['cz'][i+1:]), row['cz'])"
   ]
  },
  {
   "cell_type": "markdown",
   "metadata": {},
   "source": [
    "So far it's sufficient to make a correct ordering."
   ]
  },
  {
   "cell_type": "code",
   "execution_count": null,
   "metadata": {},
   "outputs": [],
   "source": []
  }
 ],
 "metadata": {
  "anaconda-cloud": {},
  "kernelspec": {
   "display_name": "Python 3",
   "language": "python",
   "name": "python3"
  },
  "language_info": {
   "codemirror_mode": {
    "name": "ipython",
    "version": 3
   },
   "file_extension": ".py",
   "mimetype": "text/x-python",
   "name": "python",
   "nbconvert_exporter": "python",
   "pygments_lexer": "ipython3",
   "version": "3.4.5"
  }
 },
 "nbformat": 4,
 "nbformat_minor": 2
}
