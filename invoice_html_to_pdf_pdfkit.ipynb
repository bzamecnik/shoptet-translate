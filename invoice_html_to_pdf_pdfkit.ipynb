{
 "cells": [
  {
   "cell_type": "markdown",
   "metadata": {},
   "source": [
    "https://pypi.org/project/pdfkit/\n",
    "\n",
    "```\n",
    "pip install pdfkit\n",
    "# OSX:\n",
    "brew cask install wkhtmltopdf\n",
    "# Ubuntu:\n",
    "sudo apt-get install wkhtmltopdf\n",
    "# or install from https://wkhtmltopdf.org/\n",
    "```"
   ]
  },
  {
   "cell_type": "code",
   "execution_count": 1,
   "metadata": {},
   "outputs": [],
   "source": [
    "import pdfkit"
   ]
  },
  {
   "cell_type": "code",
   "execution_count": 2,
   "metadata": {},
   "outputs": [
    {
     "name": "stdout",
     "output_type": "stream",
     "text": [
      "/Users/bzamecnik/odrive/dropbox/svet-3d-tisku/shoptet-invoice-en/data\n"
     ]
    }
   ],
   "source": [
    "cd data/"
   ]
  },
  {
   "cell_type": "code",
   "execution_count": 4,
   "metadata": {},
   "outputs": [
    {
     "name": "stdout",
     "output_type": "stream",
     "text": [
      "Loading pages (1/6)\n",
      "[>                                                           ] 0%\r",
      "[======>                                                     ] 10%\r",
      "[=============>                                              ] 23%\r",
      "[====================>                                       ] 34%\r",
      "[===========================>                                ] 46%\r",
      "[=============================>                              ] 49%\r",
      "[===================================>                        ] 59%\r",
      "[=================================================>          ] 82%\r",
      "Warning: A finished ResourceObject received a loading progress signal. This might be an indication of an iframe taking too long to load.\n",
      "Warning: A finished ResourceObject received a loading finished signal. This might be an indication of an iframe taking too long to load.\n",
      "Counting pages (2/6)\n",
      "[============================================================] Object 1 of 1\r",
      "Resolving links (4/6)                                                       \n",
      "[============================================================] Object 1 of 1\r",
      "Loading headers and footers (5/6)                                           \n",
      "Printing pages (6/6)\n",
      "[>                                                           ] Preparing\r",
      "[==============================>                             ] Page 1 of 2\r",
      "[============================================================] Page 2 of 2\r",
      "Done                                                                      \n"
     ]
    },
    {
     "data": {
      "text/plain": [
       "True"
      ]
     },
     "execution_count": 4,
     "metadata": {},
     "output_type": "execute_result"
    }
   ],
   "source": [
    "pdfkit.from_file('invoice-6501.html', 'invoice-6501.html.pdf')"
   ]
  }
 ],
 "metadata": {
  "anaconda-cloud": {},
  "kernelspec": {
   "display_name": "Python 3",
   "language": "python",
   "name": "python3"
  },
  "language_info": {
   "codemirror_mode": {
    "name": "ipython",
    "version": 3
   },
   "file_extension": ".py",
   "mimetype": "text/x-python",
   "name": "python",
   "nbconvert_exporter": "python",
   "pygments_lexer": "ipython3",
   "version": "3.4.5"
  }
 },
 "nbformat": 4,
 "nbformat_minor": 2
}
